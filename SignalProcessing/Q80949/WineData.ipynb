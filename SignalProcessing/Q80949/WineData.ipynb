{
 "cells": [
  {
   "cell_type": "markdown",
   "metadata": {},
   "source": [
    "[![Fixel Algorithms](https://fixelalgorithms.co/images/CCExt.png)](https://fixelalgorithms.gitlab.io/)\n",
    "\n",
    "# Wine Data\n",
    "\n",
    "This notebook is for applying the LDA method on [UCI Machine Learning Repository - Wine Data Set](https://archive.ics.uci.edu/ml/datasets/wine).\n",
    "\n",
    "> Notebook by Royi Avital."
   ]
  },
  {
   "cell_type": "code",
   "execution_count": null,
   "metadata": {},
   "outputs": [],
   "source": [
    "# General Tools\n",
    "import numpy as np\n",
    "import scipy as sp\n",
    "import pandas as pd\n",
    "\n",
    "# PyMC3\n",
    "import arviz as az\n",
    "import pymc3 as pm\n",
    "\n",
    "# SciPy\n",
    "from scipy.special import btdtri\n",
    "\n",
    "# Misc\n",
    "import os\n",
    "import random\n",
    "import warnings\n",
    "from platform import python_version\n",
    "\n",
    "# Visualization\n",
    "import matplotlib.pyplot as plt\n",
    "import seaborn as sns\n",
    "import daft\n",
    "\n",
    "# IPython\n",
    "from IPython.display import Image, display\n",
    "from IPython.core.display import HTML \n",
    "\n",
    "# Confuguration\n",
    "warnings.filterwarnings('ignore')\n",
    "%matplotlib inline\n",
    "\n",
    "seedNum = 512\n",
    "np.random.seed(seedNum)\n",
    "random.seed(seedNum)"
   ]
  },
  {
   "cell_type": "code",
   "execution_count": null,
   "metadata": {},
   "outputs": [],
   "source": [
    "import matplotlib.pyplot as plt\n",
    "from sklearn import datasets\n",
    "from sklearn.discriminant_analysis import LinearDiscriminantAnalysis\n",
    "from sklearn.decomposition import PCA\n",
    "%matplotlib inline\n",
    "\n",
    "wine = datasets.load_wine()\n",
    "X = wine.data\n",
    "y = wine.target\n",
    "target_names = wine.target_names\n",
    "\n",
    "\n",
    "# X_r_lda = LinearDiscriminantAnalysis(n_components=2).fit(X, y).transform(X)\n",
    "X_r_lda = LinearDiscriminantAnalysis(solver = 'eigen', n_components = 2).fit(X, y).transform(X)\n",
    "X_r_pca = PCA(n_components=2).fit(X).transform(X)\n",
    "\n",
    "with plt.style.context('seaborn-talk'):\n",
    "    fig, axes = plt.subplots(1,2,figsize=[15,6])\n",
    "    colors = ['navy', 'turquoise', 'darkorange']\n",
    "    for color, i, target_name in zip(colors, [0, 1, 2], target_names):\n",
    "        axes[0].scatter(X_r_lda[y == i, 0], X_r_lda[y == i, 1], alpha=.8, label=target_name, color=color)\n",
    "        axes[1].scatter(X_r_pca[y == i, 0], X_r_pca[y == i, 1], alpha=.8, label=target_name, color=color)\n",
    "    axes[0].title.set_text('LDA for Wine dataset')\n",
    "    axes[1].title.set_text('PCA for Wine dataset')\n",
    "    axes[0].set_xlabel('Discriminant Coordinate 1')\n",
    "    axes[0].set_ylabel('Discriminant Coordinate 2')\n",
    "    axes[1].set_xlabel('PC 1')\n",
    "    axes[1].set_ylabel('PC 2')"
   ]
  },
  {
   "cell_type": "code",
   "execution_count": null,
   "metadata": {},
   "outputs": [],
   "source": [
    "X_r_lda.shape"
   ]
  },
  {
   "cell_type": "code",
   "execution_count": null,
   "metadata": {},
   "outputs": [],
   "source": [
    "hW = LinearDiscriminantAnalysis(n_components = 2).fit(X, y)\n",
    "hW.coef_"
   ]
  },
  {
   "cell_type": "code",
   "execution_count": null,
   "metadata": {},
   "outputs": [],
   "source": [
    "hW = LinearDiscriminantAnalysis(solver = 'eigen', n_components = 2).fit(X, y)\n",
    "hW.coef_"
   ]
  },
  {
   "cell_type": "code",
   "execution_count": null,
   "metadata": {},
   "outputs": [],
   "source": [
    "print(hW.coef_.shape)\n",
    "print(hW.scalings_.shape)\n",
    "print(X.shape)\n",
    "print(hW.coef_.T.shape)\n",
    "print(hW.xbar_)"
   ]
  },
  {
   "cell_type": "code",
   "execution_count": null,
   "metadata": {},
   "outputs": [],
   "source": [
    "hW.scalings_"
   ]
  },
  {
   "cell_type": "code",
   "execution_count": null,
   "metadata": {},
   "outputs": [],
   "source": [
    "# X_r_lda = (X - hW.xbar_) @ hW.coef_.T[:, 0:2]\n",
    "X_r_lda = X @ hW.scalings_\n",
    "X_r_pca = PCA(n_components=2).fit(X).transform(X)\n",
    "\n",
    "with plt.style.context('seaborn-talk'):\n",
    "    fig, axes = plt.subplots(1,2,figsize=[15,6])\n",
    "    colors = ['navy', 'turquoise', 'darkorange']\n",
    "    for color, i, target_name in zip(colors, [0, 1, 2], target_names):\n",
    "        axes[0].scatter(X_r_lda[y == i, 0], X_r_lda[y == i, 1], alpha=.8, label=target_name, color=color)\n",
    "        axes[1].scatter(X_r_pca[y == i, 0], X_r_pca[y == i, 1], alpha=.8, label=target_name, color=color)\n",
    "    axes[0].title.set_text('LDA for Wine dataset')\n",
    "    axes[1].title.set_text('PCA for Wine dataset')\n",
    "    axes[0].set_xlabel('Discriminant Coordinate 1')\n",
    "    axes[0].set_ylabel('Discriminant Coordinate 2')\n",
    "    axes[1].set_xlabel('PC 1')\n",
    "    axes[1].set_ylabel('PC 2')"
   ]
  },
  {
   "cell_type": "code",
   "execution_count": null,
   "metadata": {},
   "outputs": [],
   "source": [
    "X"
   ]
  }
 ],
 "metadata": {
  "interpreter": {
   "hash": "cdcc87cee1aee10702687e7d6271edafc07d2af8991bfafffddc52f1c5aa8d6e"
  },
  "kernelspec": {
   "display_name": "nestlogic-trafficpoint",
   "language": "python",
   "name": "python3"
  },
  "language_info": {
   "codemirror_mode": {
    "name": "ipython",
    "version": 3
   },
   "file_extension": ".py",
   "mimetype": "text/x-python",
   "name": "python",
   "nbconvert_exporter": "python",
   "pygments_lexer": "ipython3",
   "version": "3.9.8"
  }
 },
 "nbformat": 4,
 "nbformat_minor": 2
}
